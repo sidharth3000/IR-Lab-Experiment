{
  "nbformat": 4,
  "nbformat_minor": 0,
  "metadata": {
    "colab": {
      "name": "Lab-8_Linear_and_kernel_SVM_,KNN_and_Rocchio_Classifier.ipynb",
      "provenance": [],
      "include_colab_link": true
    },
    "kernelspec": {
      "name": "python3",
      "display_name": "Python 3"
    },
    "language_info": {
      "name": "python"
    }
  },
  "cells": [
    {
      "cell_type": "markdown",
      "metadata": {
        "id": "view-in-github",
        "colab_type": "text"
      },
      "source": [
        "<a href=\"https://colab.research.google.com/github/s2ke4/IR-Lab-Experiment/blob/master/Lab_8_Linear_and_kernel_SVM_%2CKNN_and_Rocchio_Classifier.ipynb\" target=\"_parent\"><img src=\"https://colab.research.google.com/assets/colab-badge.svg\" alt=\"Open In Colab\"/></a>"
      ]
    },
    {
      "cell_type": "markdown",
      "metadata": {
        "id": "RvETI2eJQtDR"
      },
      "source": [
        "##KNN"
      ]
    },
    {
      "cell_type": "code",
      "metadata": {
        "colab": {
          "base_uri": "https://localhost:8080/"
        },
        "id": "nirgL-U-L88F",
        "outputId": "ebc7754c-654d-4687-9ade-abf100558ac1"
      },
      "source": [
        "#____loading libraries_____#\n",
        "import sklearn.neighbors\n",
        "from sklearn.datasets import fetch_20newsgroups\n",
        "from sklearn.feature_extraction.text import TfidfVectorizer\n",
        "from sklearn.metrics import accuracy_score\n",
        "from sklearn import model_selection\n",
        "\n",
        "#____Setting up HyperParameters____#\n",
        "cats = ['comp.graphics','comp.os.ms-windows.misc','comp.sys.ibm.pc.hardware','comp.sys.mac.hardware','comp.windows.x',]#'misc.forsale','rec.autos','rec.motorcycles','rec.sport.baseball','rec.sport.hockey',]#'talk.politics.misc','talk.politics.guns','talk.politics.mideast','sci.crypt','sci.electronics','sci.med','sci.space','talk.religion.misc','alt.atheism','soc.religion.christian']\n",
        "newsgroups = fetch_20newsgroups(subset='all',categories=cats)\n",
        "vectorizer = TfidfVectorizer()\n",
        "\n",
        "#____ Preprocessing on data using Tf-Idf_____#\n",
        "X = vectorizer.fit_transform(newsgroups.data)\n",
        "y = newsgroups.target\n",
        "\n",
        "weights = 'uniform' # Using Unifor Disturbuted for weight initialization\n",
        "\n",
        "#___ defining the classifier(KNN)____#\n",
        "clf = sklearn.neighbors.KNeighborsClassifier(n_neighbors=1, weights=weights)\n",
        "\n",
        "#___ K-Fold (5-Fold) ___#\n",
        "def cross_validation(data, target, classifier, cv=5):\n",
        "    return sklearn.model_selection.cross_val_score(classifier, data, target, cv=cv)\n",
        "\n",
        "def test_classifier(X, y, clf, test_size=0.4, y_names=None):\n",
        "    # train-test split\n",
        "    print('test size is: %2.0f%%' % (test_size * 100))\n",
        "    X_train, X_test, y_train, y_test = sklearn.model_selection.train_test_split(X, y, test_size=test_size)\n",
        "    clf.fit(X_train, y_train)\n",
        "    y_predicted = clf.predict(X_test)\n",
        "    print (\"accuracy before cross-validation is %0.2f\" % accuracy_score(y_test, y_predicted))\n",
        "    scores = cross_validation(X, y, clf, cv=5)\n",
        "    print(\"Accuracy: %0.2f (+/- %0.2f)\" % (scores.mean(), scores.std() * 2))\n",
        "    print('Classification report:')\n",
        "    print(sklearn.metrics.classification_report(y_test, y_predicted, target_names=y_names))\n",
        "test_classifier(X, y, clf, test_size=0.8, y_names=None)\n",
        "test_classifier(X, y, clf, test_size=0.6, y_names=None)\n",
        "test_classifier(X, y, clf, test_size=0.4, y_names=None)\n",
        "test_classifier(X, y, clf, test_size=0.2, y_names=None)\n",
        "\n",
        "\n"
      ],
      "execution_count": 1,
      "outputs": [
        {
          "output_type": "stream",
          "name": "stdout",
          "text": [
            "test size is: 80%\n",
            "accuracy before cross-validation is 0.64\n",
            "Accuracy: 0.80 (+/- 0.02)\n",
            "Classification report:\n",
            "              precision    recall  f1-score   support\n",
            "\n",
            "           0       0.69      0.52      0.59       776\n",
            "           1       0.65      0.63      0.64       792\n",
            "           2       0.66      0.60      0.63       804\n",
            "           3       0.66      0.68      0.67       758\n",
            "           4       0.58      0.77      0.66       783\n",
            "\n",
            "    accuracy                           0.64      3913\n",
            "   macro avg       0.65      0.64      0.64      3913\n",
            "weighted avg       0.65      0.64      0.64      3913\n",
            "\n",
            "test size is: 60%\n",
            "accuracy before cross-validation is 0.72\n",
            "Accuracy: 0.80 (+/- 0.02)\n",
            "Classification report:\n",
            "              precision    recall  f1-score   support\n",
            "\n",
            "           0       0.75      0.70      0.72       586\n",
            "           1       0.68      0.71      0.70       572\n",
            "           2       0.73      0.68      0.71       600\n",
            "           3       0.68      0.77      0.72       576\n",
            "           4       0.77      0.75      0.76       601\n",
            "\n",
            "    accuracy                           0.72      2935\n",
            "   macro avg       0.72      0.72      0.72      2935\n",
            "weighted avg       0.72      0.72      0.72      2935\n",
            "\n",
            "test size is: 40%\n",
            "accuracy before cross-validation is 0.76\n",
            "Accuracy: 0.80 (+/- 0.02)\n",
            "Classification report:\n",
            "              precision    recall  f1-score   support\n",
            "\n",
            "           0       0.76      0.74      0.75       379\n",
            "           1       0.74      0.74      0.74       384\n",
            "           2       0.76      0.74      0.75       404\n",
            "           3       0.75      0.80      0.77       397\n",
            "           4       0.79      0.79      0.79       393\n",
            "\n",
            "    accuracy                           0.76      1957\n",
            "   macro avg       0.76      0.76      0.76      1957\n",
            "weighted avg       0.76      0.76      0.76      1957\n",
            "\n",
            "test size is: 20%\n",
            "accuracy before cross-validation is 0.79\n",
            "Accuracy: 0.80 (+/- 0.02)\n",
            "Classification report:\n",
            "              precision    recall  f1-score   support\n",
            "\n",
            "           0       0.72      0.77      0.75       189\n",
            "           1       0.78      0.76      0.77       200\n",
            "           2       0.81      0.78      0.79       192\n",
            "           3       0.79      0.79      0.79       199\n",
            "           4       0.83      0.83      0.83       199\n",
            "\n",
            "    accuracy                           0.79       979\n",
            "   macro avg       0.79      0.79      0.79       979\n",
            "weighted avg       0.79      0.79      0.79       979\n",
            "\n"
          ]
        }
      ]
    },
    {
      "cell_type": "markdown",
      "metadata": {
        "id": "UqRkpYmNQ2uE"
      },
      "source": [
        "####***Rocchio classifier***"
      ]
    },
    {
      "cell_type": "markdown",
      "metadata": {
        "id": "zRiLLtS3fe4x"
      },
      "source": [
        "###Rocchio\n"
      ]
    },
    {
      "cell_type": "code",
      "metadata": {
        "colab": {
          "base_uri": "https://localhost:8080/"
        },
        "id": "oOOwKZSNeLqq",
        "outputId": "8041e569-03f9-41d7-8f22-2f1b487470d0"
      },
      "source": [
        "from sklearn.neighbors import NearestCentroid\n",
        "from sklearn.pipeline import Pipeline\n",
        "from sklearn import metrics\n",
        "from sklearn.feature_extraction.text import CountVectorizer\n",
        "from sklearn.feature_extraction.text import TfidfTransformer\n",
        "from sklearn.datasets import fetch_20newsgroups\n",
        "\n",
        "cats = ['comp.graphics','comp.os.ms-windows.misc','comp.sys.ibm.pc.hardware','comp.sys.mac.hardware','comp.windows.x','misc.forsale','rec.autos','rec.motorcycles',]#'rec.sport.baseball','rec.sport.hockey','talk.politics.misc',]#'talk.politics.guns','talk.politics.mideast','sci.crypt','sci.electronics','sci.med','sci.space','talk.religion.misc','alt.atheism','soc.religion.christian']\n",
        "\n",
        "newsgroups_train = fetch_20newsgroups(subset='train',categories=cats)\n",
        "newsgroups_test = fetch_20newsgroups(subset='test',categories=cats)\n",
        "X_train = newsgroups_train.data\n",
        "X_test = newsgroups_test.data\n",
        "y_train = newsgroups_train.target\n",
        "y_test = newsgroups_test.target\n",
        "\n",
        "text_clf = Pipeline([('vect', CountVectorizer()),\n",
        "                     ('tfidf', TfidfTransformer()),\n",
        "                     ('clf', NearestCentroid()),\n",
        "                     ])\n",
        "\n",
        "text_clf.fit(X_train, y_train)\n",
        "\n",
        "\n",
        "predicted = text_clf.predict(X_test)\n",
        "\n",
        "print(metrics.classification_report(y_test, predicted))"
      ],
      "execution_count": 3,
      "outputs": [
        {
          "output_type": "stream",
          "name": "stdout",
          "text": [
            "              precision    recall  f1-score   support\n",
            "\n",
            "           0       0.61      0.78      0.68       389\n",
            "           1       0.77      0.66      0.71       394\n",
            "           2       0.75      0.64      0.69       392\n",
            "           3       0.83      0.73      0.78       385\n",
            "           4       0.90      0.66      0.76       395\n",
            "           5       0.65      0.89      0.75       390\n",
            "           6       0.72      0.81      0.76       396\n",
            "           7       0.94      0.88      0.91       398\n",
            "\n",
            "    accuracy                           0.76      3139\n",
            "   macro avg       0.77      0.76      0.76      3139\n",
            "weighted avg       0.77      0.76      0.76      3139\n",
            "\n"
          ]
        }
      ]
    },
    {
      "cell_type": "markdown",
      "metadata": {
        "id": "hmOE_MrXfvK1"
      },
      "source": [
        "###Naive Bayes\n"
      ]
    },
    {
      "cell_type": "code",
      "metadata": {
        "colab": {
          "base_uri": "https://localhost:8080/"
        },
        "id": "4xbEtF58fuNn",
        "outputId": "de14858c-1870-4363-e8f6-0bef6f3df653"
      },
      "source": [
        "from sklearn.naive_bayes import MultinomialNB\n",
        "from sklearn.pipeline import Pipeline\n",
        "from sklearn import metrics\n",
        "from sklearn.feature_extraction.text import CountVectorizer\n",
        "from sklearn.feature_extraction.text import TfidfTransformer\n",
        "from sklearn.datasets import fetch_20newsgroups\n",
        "\n",
        "cats = ['comp.graphics','comp.os.ms-windows.misc','comp.sys.ibm.pc.hardware','comp.sys.mac.hardware','comp.windows.x','misc.forsale']#,'rec.autos','rec.motorcycles','rec.sport.baseball']#,'rec.sport.hockey','talk.politics.misc','talk.politics.guns','talk.politics.mideast','sci.crypt','sci.electronics','sci.med','sci.space','talk.religion.misc','alt.atheism','soc.religion.christian']\n",
        "newsgroups_train = fetch_20newsgroups(subset='train',categories=cats)\n",
        "newsgroups_test = fetch_20newsgroups(subset='test',categories=cats)\n",
        "X_train = newsgroups_train.data\n",
        "X_test = newsgroups_test.data\n",
        "y_train = newsgroups_train.target\n",
        "y_test = newsgroups_test.target\n",
        "\n",
        "text_clf = Pipeline([('vect', CountVectorizer()),\n",
        "                     ('tfidf', TfidfTransformer()),\n",
        "                     ('clf', MultinomialNB()),\n",
        "                     ])\n",
        "\n",
        "text_clf.fit(X_train, y_train)\n",
        "\n",
        "\n",
        "predicted = text_clf.predict(X_test)\n",
        "\n",
        "print(metrics.classification_report(y_test, predicted))"
      ],
      "execution_count": 4,
      "outputs": [
        {
          "output_type": "stream",
          "name": "stdout",
          "text": [
            "              precision    recall  f1-score   support\n",
            "\n",
            "           0       0.81      0.75      0.78       389\n",
            "           1       0.81      0.71      0.76       394\n",
            "           2       0.64      0.88      0.74       392\n",
            "           3       0.79      0.85      0.82       385\n",
            "           4       0.87      0.80      0.83       395\n",
            "           5       0.97      0.80      0.88       390\n",
            "\n",
            "    accuracy                           0.80      2345\n",
            "   macro avg       0.81      0.80      0.80      2345\n",
            "weighted avg       0.81      0.80      0.80      2345\n",
            "\n"
          ]
        }
      ]
    },
    {
      "cell_type": "markdown",
      "metadata": {
        "id": "GNS7SZPh6rMw"
      },
      "source": [
        "###Linear SVM"
      ]
    },
    {
      "cell_type": "code",
      "metadata": {
        "id": "ED8iq-HyfVKD",
        "colab": {
          "base_uri": "https://localhost:8080/"
        },
        "outputId": "02637c9a-6086-48e1-9144-92c146fbf342"
      },
      "source": [
        "from sklearn.naive_bayes import MultinomialNB\n",
        "from sklearn.pipeline import Pipeline\n",
        "from sklearn import metrics\n",
        "from sklearn.feature_extraction.text import CountVectorizer\n",
        "from sklearn.feature_extraction.text import TfidfTransformer\n",
        "from sklearn.datasets import fetch_20newsgroups\n",
        "from sklearn.svm import SVC\n",
        "\n",
        "cats = ['comp.graphics','comp.os.ms-windows.misc','comp.sys.ibm.pc.hardware','comp.sys.mac.hardware','comp.windows.x','misc.forsale']#,'rec.autos','rec.motorcycles','rec.sport.baseball']#,'rec.sport.hockey','talk.politics.misc','talk.politics.guns','talk.politics.mideast','sci.crypt','sci.electronics','sci.med','sci.space','talk.religion.misc','alt.atheism','soc.religion.christian']\n",
        "newsgroups_train = fetch_20newsgroups(subset='train',categories=cats)\n",
        "newsgroups_test = fetch_20newsgroups(subset='test',categories=cats)\n",
        "X_train = newsgroups_train.data\n",
        "X_test = newsgroups_test.data\n",
        "y_train = newsgroups_train.target\n",
        "y_test = newsgroups_test.target\n",
        "\n",
        "text_clf = Pipeline([('vect', CountVectorizer()),\n",
        "                     ('tfidf', TfidfTransformer()),\n",
        "                     ('clf', SVC(kernel = 'linear')),\n",
        "                     ])\n",
        "\n",
        "text_clf.fit(X_train, y_train)\n",
        "\n",
        "\n",
        "predicted = text_clf.predict(X_test)\n",
        "\n",
        "print(metrics.classification_report(y_test, predicted))\n"
      ],
      "execution_count": 5,
      "outputs": [
        {
          "output_type": "stream",
          "name": "stdout",
          "text": [
            "              precision    recall  f1-score   support\n",
            "\n",
            "           0       0.75      0.85      0.79       389\n",
            "           1       0.80      0.72      0.76       394\n",
            "           2       0.74      0.80      0.77       392\n",
            "           3       0.85      0.85      0.85       385\n",
            "           4       0.87      0.73      0.80       395\n",
            "           5       0.89      0.93      0.91       390\n",
            "\n",
            "    accuracy                           0.81      2345\n",
            "   macro avg       0.82      0.81      0.81      2345\n",
            "weighted avg       0.82      0.81      0.81      2345\n",
            "\n"
          ]
        }
      ]
    },
    {
      "cell_type": "markdown",
      "metadata": {
        "id": "fMLATMCc7voS"
      },
      "source": [
        "###Kernel SVM"
      ]
    },
    {
      "cell_type": "code",
      "metadata": {
        "colab": {
          "base_uri": "https://localhost:8080/"
        },
        "id": "Iq6XKqbz7FjG",
        "outputId": "2a5abe0e-1b20-47ff-ca0c-9a8c2fd66fb5"
      },
      "source": [
        "from sklearn.naive_bayes import MultinomialNB\n",
        "from sklearn.pipeline import Pipeline\n",
        "from sklearn import metrics\n",
        "from sklearn.feature_extraction.text import CountVectorizer\n",
        "from sklearn.feature_extraction.text import TfidfTransformer\n",
        "from sklearn.datasets import fetch_20newsgroups\n",
        "from sklearn.svm import SVC\n",
        "\n",
        "cats = ['comp.graphics','comp.os.ms-windows.misc','comp.sys.ibm.pc.hardware','comp.sys.mac.hardware','comp.windows.x','misc.forsale']#,'rec.autos','rec.motorcycles','rec.sport.baseball']#,'rec.sport.hockey','talk.politics.misc','talk.politics.guns','talk.politics.mideast','sci.crypt','sci.electronics','sci.med','sci.space','talk.religion.misc','alt.atheism','soc.religion.christian']\n",
        "newsgroups_train = fetch_20newsgroups(subset='train',categories=cats)\n",
        "newsgroups_test = fetch_20newsgroups(subset='test',categories=cats)\n",
        "X_train = newsgroups_train.data\n",
        "X_test = newsgroups_test.data\n",
        "y_train = newsgroups_train.target\n",
        "y_test = newsgroups_test.target\n",
        "\n",
        "text_clf = Pipeline([('vect', CountVectorizer()),\n",
        "                     ('tfidf', TfidfTransformer()),\n",
        "                     ('clf', SVC(kernel = 'rbf')),\n",
        "                     ])\n",
        "\n",
        "text_clf.fit(X_train, y_train)\n",
        "\n",
        "\n",
        "predicted = text_clf.predict(X_test)\n",
        "\n",
        "print(metrics.classification_report(y_test, predicted))\n"
      ],
      "execution_count": 6,
      "outputs": [
        {
          "output_type": "stream",
          "name": "stdout",
          "text": [
            "              precision    recall  f1-score   support\n",
            "\n",
            "           0       0.71      0.84      0.77       389\n",
            "           1       0.82      0.71      0.76       394\n",
            "           2       0.74      0.80      0.77       392\n",
            "           3       0.86      0.85      0.85       385\n",
            "           4       0.89      0.73      0.80       395\n",
            "           5       0.88      0.94      0.91       390\n",
            "\n",
            "    accuracy                           0.81      2345\n",
            "   macro avg       0.82      0.81      0.81      2345\n",
            "weighted avg       0.82      0.81      0.81      2345\n",
            "\n"
          ]
        }
      ]
    }
  ]
}